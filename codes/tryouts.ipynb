{
 "cells": [
  {
   "cell_type": "markdown",
   "metadata": {},
   "source": [
    "Question 35"
   ]
  },
  {
   "cell_type": "code",
   "execution_count": 6,
   "metadata": {},
   "outputs": [],
   "source": [
    "# class Solution(object):\n",
    "\n",
    "def lessEqualTwo(nums, indexes, target):\n",
    "    i = indexes[0]\n",
    "    j = indexes[1]\n",
    "    if target <= nums[i]:\n",
    "        return i\n",
    "    elif target > nums[i] and target <= nums[j]:\n",
    "        return j\n",
    "    elif target > nums[j]:\n",
    "        return j+1\n",
    "    \n",
    "# def searchInsert(self, nums, target):\n",
    "def searchInsert(nums, target):\n",
    "    \"\"\"\n",
    "    :type nums: List[int]\n",
    "    :type target: int\n",
    "    :rtype: int\n",
    "    \"\"\"\n",
    "\n",
    "    a = len(nums)\n",
    "\n",
    "    if target > nums[a-1]:\n",
    "        return a\n",
    "\n",
    "    indexes = [ i for i in range(a)]\n",
    "    print(\"indexes = \", indexes)\n",
    "\n",
    "    while True:\n",
    "        d = len(indexes)\n",
    "        print(\"d= \", d)\n",
    "\n",
    "        if d <= 2:\n",
    "            print(\"less than 2\")\n",
    "            return lessEqualTwo(nums, indexes, target)\n",
    "\n",
    "        middle_index = int((d - 1)/2)\n",
    "        print(\"middle_index = \", middle_index)\n",
    "\n",
    "        nums_index = indexes[middle_index]\n",
    "        print(\"nums_index = \", nums_index)\n",
    "\n",
    "        middle = nums[nums_index]\n",
    "        print(\"middle = \", middle)\n",
    "        left = nums[nums_index - 1]\n",
    "        print(\"left = \", left)\n",
    "        right = nums[nums_index + 1]\n",
    "        print(\"right = \", right)\n",
    "\n",
    "        # deal with equal to left or right \n",
    "        if target == middle or ((target < middle) and (target > left)):\n",
    "            return nums_index\n",
    "\n",
    "        elif (target > middle) and (target <= right):\n",
    "            return nums_index + 1\n",
    "        \n",
    "        elif target == left:\n",
    "            return nums_index - 1\n",
    "\n",
    "        elif (target < middle) and (target < left):\n",
    "            indexes = indexes[:middle_index+1]\n",
    "            print(\"left side\")\n",
    "        elif (target > middle) and (target > right):\n",
    "            indexes = indexes[middle_index+1:]\n",
    "            print(\"right side\")\n",
    "        else:\n",
    "            print(\"no side\")\n",
    "            \n",
    "\n",
    "        "
   ]
  },
  {
   "cell_type": "code",
   "execution_count": null,
   "metadata": {},
   "outputs": [],
   "source": [
    "searchInsert([1,3,5,6], 5)"
   ]
  },
  {
   "cell_type": "code",
   "execution_count": 8,
   "metadata": {},
   "outputs": [
    {
     "name": "stdout",
     "output_type": "stream",
     "text": [
      "indexes =  [0, 1, 2, 3]\n",
      "d=  4\n",
      "middle_index =  1\n",
      "nums_index =  1\n",
      "middle =  3\n",
      "left =  1\n",
      "right =  5\n"
     ]
    },
    {
     "data": {
      "text/plain": [
       "1"
      ]
     },
     "execution_count": 8,
     "metadata": {},
     "output_type": "execute_result"
    }
   ],
   "source": [
    "searchInsert([1,3,5,6], 2)"
   ]
  },
  {
   "cell_type": "code",
   "execution_count": null,
   "metadata": {},
   "outputs": [],
   "source": [
    "searchInsert([1,3,5,6], 7)"
   ]
  },
  {
   "cell_type": "code",
   "execution_count": null,
   "metadata": {},
   "outputs": [],
   "source": []
  }
 ],
 "metadata": {
  "kernelspec": {
   "display_name": "aivenv",
   "language": "python",
   "name": "python3"
  },
  "language_info": {
   "codemirror_mode": {
    "name": "ipython",
    "version": 3
   },
   "file_extension": ".py",
   "mimetype": "text/x-python",
   "name": "python",
   "nbconvert_exporter": "python",
   "pygments_lexer": "ipython3",
   "version": "3.9.7"
  }
 },
 "nbformat": 4,
 "nbformat_minor": 2
}
