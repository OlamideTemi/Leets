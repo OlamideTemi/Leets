{
 "cells": [
  {
   "cell_type": "markdown",
   "metadata": {},
   "source": [
    "Question 35"
   ]
  },
  {
   "cell_type": "code",
   "execution_count": 6,
   "metadata": {},
   "outputs": [],
   "source": [
    "# class Solution(object):\n",
    "\n",
    "def lessEqualTwo(nums, indexes, target):\n",
    "    i = indexes[0]\n",
    "    j = indexes[1]\n",
    "    if target <= nums[i]:\n",
    "        return i\n",
    "    elif target > nums[i] and target <= nums[j]:\n",
    "        return j\n",
    "    elif target > nums[j]:\n",
    "        return j+1\n",
    "    \n",
    "# def searchInsert(self, nums, target):\n",
    "def searchInsert(nums, target):\n",
    "    \"\"\"\n",
    "    :type nums: List[int]\n",
    "    :type target: int\n",
    "    :rtype: int\n",
    "    \"\"\"\n",
    "\n",
    "    a = len(nums)\n",
    "\n",
    "    if target > nums[a-1]:\n",
    "        return a\n",
    "\n",
    "    indexes = [ i for i in range(a)]\n",
    "    print(\"indexes = \", indexes)\n",
    "\n",
    "    while True:\n",
    "        d = len(indexes)\n",
    "        print(\"d= \", d)\n",
    "\n",
    "        if d <= 2:\n",
    "            print(\"less than 2\")\n",
    "            return lessEqualTwo(nums, indexes, target)\n",
    "\n",
    "        middle_index = int((d - 1)/2)\n",
    "        print(\"middle_index = \", middle_index)\n",
    "\n",
    "        nums_index = indexes[middle_index]\n",
    "        print(\"nums_index = \", nums_index)\n",
    "\n",
    "        middle = nums[nums_index]\n",
    "        print(\"middle = \", middle)\n",
    "        left = nums[nums_index - 1]\n",
    "        print(\"left = \", left)\n",
    "        right = nums[nums_index + 1]\n",
    "        print(\"right = \", right)\n",
    "\n",
    "        # deal with equal to left or right \n",
    "        if target == middle or ((target < middle) and (target > left)):\n",
    "            return nums_index\n",
    "\n",
    "        elif (target > middle) and (target <= right):\n",
    "            return nums_index + 1\n",
    "        \n",
    "        elif target == left:\n",
    "            return nums_index - 1\n",
    "\n",
    "        elif (target < middle) and (target < left):\n",
    "            indexes = indexes[:middle_index+1]\n",
    "            print(\"left side\")\n",
    "        elif (target > middle) and (target > right):\n",
    "            indexes = indexes[middle_index+1:]\n",
    "            print(\"right side\")\n",
    "        else:\n",
    "            print(\"no side\")\n",
    "            \n",
    "\n",
    "        "
   ]
  },
  {
   "cell_type": "code",
   "execution_count": null,
   "metadata": {},
   "outputs": [],
   "source": [
    "searchInsert([1,3,5,6], 5)"
   ]
  },
  {
   "cell_type": "code",
   "execution_count": 8,
   "metadata": {},
   "outputs": [
    {
     "name": "stdout",
     "output_type": "stream",
     "text": [
      "indexes =  [0, 1, 2, 3]\n",
      "d=  4\n",
      "middle_index =  1\n",
      "nums_index =  1\n",
      "middle =  3\n",
      "left =  1\n",
      "right =  5\n"
     ]
    },
    {
     "data": {
      "text/plain": [
       "1"
      ]
     },
     "execution_count": 8,
     "metadata": {},
     "output_type": "execute_result"
    }
   ],
   "source": [
    "searchInsert([1,3,5,6], 2)"
   ]
  },
  {
   "cell_type": "code",
   "execution_count": null,
   "metadata": {},
   "outputs": [],
   "source": [
    "searchInsert([1,3,5,6], 7)"
   ]
  },
  {
   "cell_type": "code",
   "execution_count": 7,
   "metadata": {},
   "outputs": [],
   "source": [
    "def plusOne(digits):\n",
    "        \"\"\"\n",
    "        :type digits: List[int]\n",
    "        :rtype: List[int]\n",
    "        \"\"\"\n",
    "\n",
    "        length = len(digits)\n",
    "\n",
    "        num = 0\n",
    "\n",
    "        for i in range(length):\n",
    "            num = num + (digits[i] * (10**(length-i-1)))\n",
    "            \n",
    "        result = num + 1\n",
    "        \n",
    "\n",
    "        str_digits = str(result)\n",
    "        result_arr = []\n",
    "\n",
    "        for char in str_digits:\n",
    "            result_arr.append(int(char))\n",
    "\n",
    "        return result_arr\n",
    "\n",
    "        "
   ]
  },
  {
   "cell_type": "code",
   "execution_count": null,
   "metadata": {},
   "outputs": [],
   "source": [
    "plusOne([1,2,3])"
   ]
  },
  {
   "cell_type": "code",
   "execution_count": null,
   "metadata": {},
   "outputs": [],
   "source": [
    "def mySqrt(self, x):\n",
    "        \"\"\"\n",
    "        :type x: int\n",
    "        :rtype: int\n",
    "        \"\"\"\n",
    "\n",
    "        a = 0\n",
    "        l =x\n",
    "        if x == 0:\n",
    "            return 0\n",
    "        elif x == 1:\n",
    "            return 1\n",
    "\n",
    "        while True:\n",
    "\n",
    "            sqrt = (l+a) // 2\n",
    "            y = sqrt + 1\n",
    "\n",
    "            temp = sqrt * sqrt\n",
    "            temp2 = y * y\n",
    "\n",
    "            if (temp == x) or (temp < x and temp2 > x):\n",
    "                return sqrt\n",
    "            else:\n",
    "                if temp < x:\n",
    "                    a = sqrt\n",
    "                elif temp > x:\n",
    "                    l = sqrt"
   ]
  },
  {
   "cell_type": "code",
   "execution_count": 1,
   "metadata": {},
   "outputs": [],
   "source": [
    "def mySqrtv2( x ):\n",
    "    \"\"\"\n",
    "    :type x: int\n",
    "    :rtype: int\n",
    "        \"\"\"\n",
    "    if x == 0:\n",
    "        return 0\n",
    "    elif x == 1:\n",
    "        return 1\n",
    "    \n",
    "    prime = [2,3,5,7,11,13,17,19, 23, 31, 37]\n",
    "\n",
    "    square = [x*x for x in prime]\n",
    "\n",
    "    sqrt = 1\n",
    "    length = len(prime)\n",
    "\n",
    "    x_copy = x\n",
    "    i = 0\n",
    "    while i < length:\n",
    "        if x_copy % square[i] == 0:\n",
    "            sqrt = sqrt * prime[i]\n",
    "            x_copy = x_copy/square[i]\n",
    "        else:\n",
    "            i+=1\n",
    "\n",
    "    return sqrt\n",
    "        \n"
   ]
  },
  {
   "cell_type": "code",
   "execution_count": 2,
   "metadata": {},
   "outputs": [
    {
     "data": {
      "text/plain": [
       "26"
      ]
     },
     "execution_count": 2,
     "metadata": {},
     "output_type": "execute_result"
    }
   ],
   "source": [
    "mySqrtv2( 676 )"
   ]
  },
  {
   "cell_type": "code",
   "execution_count": 33,
   "metadata": {},
   "outputs": [],
   "source": [
    "def strStrv2(haystack: str, needle: str) -> int:\n",
    "    \"\"\"\n",
    "    :type haystack: str\n",
    "    :type needle: str\n",
    "    :rtype: int\n",
    "    \"\"\"\n",
    "    a = len(haystack)\n",
    "    b = len(needle)\n",
    "\n",
    "    firstLetter = []\n",
    "    needle0 = needle[0]\n",
    "\n",
    "    for i in range(a):\n",
    "        if haystack[i] == needle0:\n",
    "            firstLetter.append(i)  \n",
    "    # i = 0\n",
    "    j = 0\n",
    "    if len(firstLetter) > 0:\n",
    "        for i in firstLetter:\n",
    "            for d in range(i,a):\n",
    "                if (haystack[d] == needle[j]):\n",
    "                    j += 1\n",
    "                else:\n",
    "                    j = 0\n",
    "                    break\n",
    " \n",
    "                if j == b: # check before adding 1\n",
    "                    return d-j+1\n",
    "                \n",
    "    return -1"
   ]
  },
  {
   "cell_type": "code",
   "execution_count": 34,
   "metadata": {},
   "outputs": [
    {
     "data": {
      "text/plain": [
       "4"
      ]
     },
     "execution_count": 34,
     "metadata": {},
     "output_type": "execute_result"
    }
   ],
   "source": [
    "strStrv2(\"mississippi\", \"issip\")"
   ]
  },
  {
   "cell_type": "code",
   "execution_count": null,
   "metadata": {},
   "outputs": [],
   "source": [
    "def climbStairs(self, n):\n",
    "    \"\"\"\n",
    "    :type n: int\n",
    "    :rtype: int\n",
    "    \"\"\"\n",
    "\n",
    "    # Combination from Permutation and Combination should do the job"
   ]
  },
  {
   "cell_type": "code",
   "execution_count": 8,
   "metadata": {},
   "outputs": [],
   "source": [
    "def romanToInt(s):\n",
    "\n",
    "    num = 0\n",
    "    former = 0\n",
    "\n",
    "    romDict = {'I': 1, 'V':5, 'X':10, 'L':50, 'C':100, 'D':500, 'M':1000, 'o': 0}\n",
    "    s = s + 'o'\n",
    "\n",
    "    for c in s:\n",
    "        val = romDict[c]\n",
    "\n",
    "        if val > former:\n",
    "            num -= former\n",
    "        else:\n",
    "            num += former\n",
    "\n",
    "        former = val\n",
    "\n",
    "\n",
    "    return num\n"
   ]
  },
  {
   "cell_type": "code",
   "execution_count": 10,
   "metadata": {},
   "outputs": [
    {
     "data": {
      "text/plain": [
       "1412"
      ]
     },
     "execution_count": 10,
     "metadata": {},
     "output_type": "execute_result"
    },
    {
     "ename": "",
     "evalue": "",
     "output_type": "error",
     "traceback": [
      "\u001b[1;31mThe Kernel crashed while executing code in the current cell or a previous cell. \n",
      "\u001b[1;31mPlease review the code in the cell(s) to identify a possible cause of the failure. \n",
      "\u001b[1;31mClick <a href='https://aka.ms/vscodeJupyterKernelCrash'>here</a> for more info. \n",
      "\u001b[1;31mView Jupyter <a href='command:jupyter.viewOutput'>log</a> for further details."
     ]
    }
   ],
   "source": [
    "romanToInt(\"MCDXII\")"
   ]
  },
  {
   "cell_type": "code",
   "execution_count": null,
   "metadata": {},
   "outputs": [],
   "source": [
    "   \n",
    "# Fibonacci series using recursion\n",
    "def fibonacci(n):\n",
    "    if n <= 1:\n",
    "        return n\n",
    "    return fibonacci(n-1) + fibonacci(n-2)\n",
    " \n",
    " \n",
    "if __name__ == \"__main__\":\n",
    "    n = 9\n",
    "    print(n, \"th Fibonacci Number: \")\n",
    "    print(fibonacci(n))\n",
    "    "
   ]
  },
  {
   "cell_type": "code",
   "execution_count": 3,
   "metadata": {},
   "outputs": [
    {
     "name": "stdout",
     "output_type": "stream",
     "text": [
      "1\n"
     ]
    }
   ],
   "source": [
    "# Fibonacci Series using Dynamic Programming\n",
    "def fibonacci(n):\n",
    " \n",
    "    # Taking 1st two fibonacci numbers as 0 and 1\n",
    "    f = [0, 1]\n",
    " \n",
    "    for i in range(2, n+1):\n",
    "        print(f)\n",
    "        f.append(f[i-1] + f[i-2])\n",
    "    return f[n]\n",
    " \n",
    " \n",
    "print(fibonacci(1))"
   ]
  },
  {
   "cell_type": "code",
   "execution_count": 5,
   "metadata": {},
   "outputs": [],
   "source": [
    "matrix = [[0,1,2,0],[3,4,5,2],[1,3,1,5]]\n",
    "val = len(matrix[0])"
   ]
  },
  {
   "cell_type": "code",
   "execution_count": 6,
   "metadata": {},
   "outputs": [
    {
     "data": {
      "text/plain": [
       "4"
      ]
     },
     "execution_count": 6,
     "metadata": {},
     "output_type": "execute_result"
    }
   ],
   "source": [
    "val"
   ]
  },
  {
   "cell_type": "code",
   "execution_count": 10,
   "metadata": {},
   "outputs": [],
   "source": [
    "def climbStairs(n):\n",
    "        \"\"\"\n",
    "        :type n: int\n",
    "        :rtype: int\n",
    "        \"\"\"\n",
    "\n",
    "        a = 0\n",
    "        b = 0\n",
    "        result = 1\n",
    "\n",
    "        for i in range(1, n+1):\n",
    "            a = b\n",
    "            \n",
    "            b = result\n",
    "            result = a + b\n",
    "            print(a)\n",
    "            print(b)\n",
    "            print(result)\n",
    "\n",
    "        return result"
   ]
  },
  {
   "cell_type": "code",
   "execution_count": 11,
   "metadata": {},
   "outputs": [
    {
     "name": "stdout",
     "output_type": "stream",
     "text": [
      "0\n",
      "1\n",
      "1\n",
      "1\n",
      "1\n",
      "2\n",
      "1\n",
      "2\n",
      "3\n"
     ]
    },
    {
     "data": {
      "text/plain": [
       "3"
      ]
     },
     "execution_count": 11,
     "metadata": {},
     "output_type": "execute_result"
    }
   ],
   "source": [
    "climbStairs(3)"
   ]
  },
  {
   "cell_type": "code",
   "execution_count": 12,
   "metadata": {},
   "outputs": [],
   "source": [
    "def rotate(matrix):\n",
    "    \"\"\"\n",
    "    :type matrix: List[List[int]]\n",
    "    :rtype: None Do not return anything, modify matrix in-place instead.\n",
    "    \"\"\"\n",
    "\n",
    "    length = len(matrix)\n",
    "    \n",
    "    if length >= 2:\n",
    "        last_index = length - 1\n",
    "\n",
    "        for i in range(length-1):\n",
    "            r= 0\n",
    "            c = i\n",
    "\n",
    "            first_val = matrix[r][c]\n",
    "\n",
    "            while True:\n",
    "                next_r = c\n",
    "                next_c = last_index -r\n",
    "\n",
    "                temp_next = matrix[next_r][next_c]\n",
    "\n",
    "                matrix[next_r][next_c] = first_val\n",
    "\n",
    "                if next_r == 0 and next_c == i:\n",
    "                    break\n",
    "\n",
    "                first_val = temp_next\n",
    "\n",
    "                r = next_r\n",
    "                c = next_c\n",
    "\n",
    "                \n",
    "                # m,n -> n,-m+(length-1)\n",
    "\n",
    "        doubles = length - 2\n",
    "\n",
    "        last_r = doubles\n",
    "        last_c = doubles\n",
    "\n",
    "\n",
    "        first_val = matrix[last_r][last_c]\n",
    "\n",
    "        if length != 2:\n",
    "            while True:\n",
    "                next_r = last_c\n",
    "                next_c = last_index - last_r\n",
    "\n",
    "                temp_next = matrix[next_r][next_c]\n",
    "\n",
    "                matrix[next_r][next_c] = first_val\n",
    "\n",
    "                if next_r == doubles and next_c == doubles:\n",
    "                    break\n",
    "\n",
    "                first_val = temp_next\n",
    "\n",
    "                last_r = next_r\n",
    "                last_c = next_c\n",
    "\n",
    "    return matrix"
   ]
  },
  {
   "cell_type": "code",
   "execution_count": 13,
   "metadata": {},
   "outputs": [
    {
     "data": {
      "text/plain": [
       "[[1]]"
      ]
     },
     "execution_count": 13,
     "metadata": {},
     "output_type": "execute_result"
    }
   ],
   "source": [
    "rotate([[1]])"
   ]
  },
  {
   "cell_type": "code",
   "execution_count": 9,
   "metadata": {},
   "outputs": [
    {
     "data": {
      "text/plain": [
       "[[7, 4, 1], [8, 5, 2], [9, 6, 3]]"
      ]
     },
     "execution_count": 9,
     "metadata": {},
     "output_type": "execute_result"
    }
   ],
   "source": [
    "rotate([[1,2,3],[4,5,6],[7,8,9]])"
   ]
  },
  {
   "cell_type": "code",
   "execution_count": 10,
   "metadata": {},
   "outputs": [
    {
     "data": {
      "text/plain": [
       "[[3, 1], [4, 2]]"
      ]
     },
     "execution_count": 10,
     "metadata": {},
     "output_type": "execute_result"
    }
   ],
   "source": [
    "rotate([[1,2],[3,4]])"
   ]
  },
  {
   "cell_type": "code",
   "execution_count": 11,
   "metadata": {},
   "outputs": [
    {
     "data": {
      "text/plain": [
       "[[15, 13, 2, 5], [14, 3, 4, 1], [12, 6, 8, 9], [16, 7, 10, 11]]"
      ]
     },
     "execution_count": 11,
     "metadata": {},
     "output_type": "execute_result"
    }
   ],
   "source": [
    "rotate([[5,1,9,11],[2,4,8,10],[13,3,6,7],[15,14,12,16]])"
   ]
  },
  {
   "cell_type": "code",
   "execution_count": 15,
   "metadata": {},
   "outputs": [
    {
     "data": {
      "text/plain": [
       "[[21, 16, 11, 6, 1],\n",
       " [22, 17, 8, 7, 2],\n",
       " [23, 12, 13, 14, 3],\n",
       " [24, 19, 18, 9, 4],\n",
       " [25, 20, 15, 10, 5]]"
      ]
     },
     "execution_count": 15,
     "metadata": {},
     "output_type": "execute_result"
    }
   ],
   "source": [
    "rotate([[1,2,3,4,5], [6,7,8,9,10], [11,12,13,14,15], [16,17,18,19,20], [21,22,23,24,25]])"
   ]
  },
  {
   "cell_type": "markdown",
   "metadata": {},
   "source": [
    "matrix of size 5 loopholes\n",
    "\n",
    "2,1 -> 1,2\n",
    "1,2 -> 2,3\n",
    "3,2 -> 2,1\n",
    "2,3 -> 3,2\n",
    "\n",
    "1,2"
   ]
  },
  {
   "cell_type": "code",
   "execution_count": 14,
   "metadata": {},
   "outputs": [
    {
     "data": {
      "text/plain": [
       "[[31, 25, 19, 13, 7, 1],\n",
       " [32, 26, 9, 10, 8, 2],\n",
       " [33, 14, 15, 16, 17, 3],\n",
       " [34, 20, 21, 22, 23, 4],\n",
       " [35, 29, 27, 28, 11, 5],\n",
       " [36, 30, 24, 18, 12, 6]]"
      ]
     },
     "execution_count": 14,
     "metadata": {},
     "output_type": "execute_result"
    }
   ],
   "source": [
    "rotate([[1,2,3,4,5,6], [7,8,9,10,11,12], [13,14,15,16,17,18], [19,20,21,22,23,24], [25,26,27,28,29,30], [31,32,33,34,35,36]])"
   ]
  },
  {
   "cell_type": "markdown",
   "metadata": {},
   "source": [
    "matrix of size 6 loopholes\n",
    "m,n -> n, 5-m\n",
    "\n",
    "2,1 -> 1,3 -\n",
    "3,1\n",
    "\n",
    "1,2\n",
    "2,2 -> 2,3 --\n",
    "3,2 -> 2,2 --\n",
    "4,2 -> 2,1 -\n",
    "\n",
    "1,3 -> 3,4 -\n",
    "2,3 -> 3,3 --\n",
    "3,3 -> 3,2 --\n",
    "4,3\n",
    "\n",
    "2,4\n",
    "3,4 -> 4,2 -\n",
    "\n",
    "Maybe\n",
    "1,2; 1,3; \n",
    "2,3\n"
   ]
  },
  {
   "cell_type": "code",
   "execution_count": null,
   "metadata": {},
   "outputs": [],
   "source": [
    "1,2; 1,3; 1,4\n",
    "2,3, 2,4\n",
    "3,4\n"
   ]
  },
  {
   "cell_type": "code",
   "execution_count": 11,
   "metadata": {},
   "outputs": [],
   "source": [
    "def rotate(matrix):\n",
    "    \"\"\"\n",
    "    :type matrix: List[List[int]]\n",
    "    :rtype: None Do not return anything, modify matrix in-place instead.\n",
    "    \"\"\"\n",
    "\n",
    "    length = len(matrix)\n",
    "\n",
    "    if length >= 2:\n",
    "\n",
    "        middle = length // 2\n",
    "        last_index = length - 1\n",
    "        matrix_index = length - 1\n",
    "\n",
    "        for i in range(middle):\n",
    "\n",
    "            for j in range(i, last_index):\n",
    "                r= i\n",
    "                c = j\n",
    "\n",
    "                first_val = matrix[r][c]\n",
    "\n",
    "                while True:\n",
    "                    next_r = c\n",
    "                    next_c = matrix_index -r\n",
    "\n",
    "                    temp_next = matrix[next_r][next_c]\n",
    "\n",
    "                    matrix[next_r][next_c] = first_val\n",
    "\n",
    "                    if next_r == i and next_c == j:\n",
    "                        break\n",
    "\n",
    "                    first_val = temp_next\n",
    "\n",
    "                    r = next_r\n",
    "                    c = next_c\n",
    "                    \n",
    "            last_index-=1\n",
    "    return matrix"
   ]
  },
  {
   "cell_type": "code",
   "execution_count": 12,
   "metadata": {},
   "outputs": [
    {
     "data": {
      "text/plain": [
       "[[7, 4, 1], [8, 5, 2], [9, 6, 3]]"
      ]
     },
     "execution_count": 12,
     "metadata": {},
     "output_type": "execute_result"
    }
   ],
   "source": [
    "rotate([[1,2,3], [4,5,6], [7,8,9]])"
   ]
  },
  {
   "cell_type": "code",
   "execution_count": 13,
   "metadata": {},
   "outputs": [
    {
     "data": {
      "text/plain": [
       "[[21, 16, 11, 6, 1],\n",
       " [22, 17, 12, 7, 2],\n",
       " [23, 18, 13, 8, 3],\n",
       " [24, 19, 14, 9, 4],\n",
       " [25, 20, 15, 10, 5]]"
      ]
     },
     "execution_count": 13,
     "metadata": {},
     "output_type": "execute_result"
    }
   ],
   "source": [
    "rotate([[1,2,3,4,5], [6,7,8,9,10], [11,12,13,14,15], [16,17,18,19,20], [21,22,23,24,25]])"
   ]
  },
  {
   "cell_type": "code",
   "execution_count": null,
   "metadata": {},
   "outputs": [],
   "source": []
  }
 ],
 "metadata": {
  "kernelspec": {
   "display_name": "aivenv",
   "language": "python",
   "name": "python3"
  },
  "language_info": {
   "codemirror_mode": {
    "name": "ipython",
    "version": 3
   },
   "file_extension": ".py",
   "mimetype": "text/x-python",
   "name": "python",
   "nbconvert_exporter": "python",
   "pygments_lexer": "ipython3",
   "version": "3.9.7"
  }
 },
 "nbformat": 4,
 "nbformat_minor": 2
}
