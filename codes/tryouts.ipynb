{
 "cells": [
  {
   "cell_type": "markdown",
   "metadata": {},
   "source": [
    "Question 35"
   ]
  },
  {
   "cell_type": "code",
   "execution_count": 6,
   "metadata": {},
   "outputs": [],
   "source": [
    "# class Solution(object):\n",
    "\n",
    "def lessEqualTwo(nums, indexes, target):\n",
    "    i = indexes[0]\n",
    "    j = indexes[1]\n",
    "    if target <= nums[i]:\n",
    "        return i\n",
    "    elif target > nums[i] and target <= nums[j]:\n",
    "        return j\n",
    "    elif target > nums[j]:\n",
    "        return j+1\n",
    "    \n",
    "# def searchInsert(self, nums, target):\n",
    "def searchInsert(nums, target):\n",
    "    \"\"\"\n",
    "    :type nums: List[int]\n",
    "    :type target: int\n",
    "    :rtype: int\n",
    "    \"\"\"\n",
    "\n",
    "    a = len(nums)\n",
    "\n",
    "    if target > nums[a-1]:\n",
    "        return a\n",
    "\n",
    "    indexes = [ i for i in range(a)]\n",
    "    print(\"indexes = \", indexes)\n",
    "\n",
    "    while True:\n",
    "        d = len(indexes)\n",
    "        print(\"d= \", d)\n",
    "\n",
    "        if d <= 2:\n",
    "            print(\"less than 2\")\n",
    "            return lessEqualTwo(nums, indexes, target)\n",
    "\n",
    "        middle_index = int((d - 1)/2)\n",
    "        print(\"middle_index = \", middle_index)\n",
    "\n",
    "        nums_index = indexes[middle_index]\n",
    "        print(\"nums_index = \", nums_index)\n",
    "\n",
    "        middle = nums[nums_index]\n",
    "        print(\"middle = \", middle)\n",
    "        left = nums[nums_index - 1]\n",
    "        print(\"left = \", left)\n",
    "        right = nums[nums_index + 1]\n",
    "        print(\"right = \", right)\n",
    "\n",
    "        # deal with equal to left or right \n",
    "        if target == middle or ((target < middle) and (target > left)):\n",
    "            return nums_index\n",
    "\n",
    "        elif (target > middle) and (target <= right):\n",
    "            return nums_index + 1\n",
    "        \n",
    "        elif target == left:\n",
    "            return nums_index - 1\n",
    "\n",
    "        elif (target < middle) and (target < left):\n",
    "            indexes = indexes[:middle_index+1]\n",
    "            print(\"left side\")\n",
    "        elif (target > middle) and (target > right):\n",
    "            indexes = indexes[middle_index+1:]\n",
    "            print(\"right side\")\n",
    "        else:\n",
    "            print(\"no side\")\n",
    "            \n",
    "\n",
    "        "
   ]
  },
  {
   "cell_type": "code",
   "execution_count": null,
   "metadata": {},
   "outputs": [],
   "source": [
    "searchInsert([1,3,5,6], 5)"
   ]
  },
  {
   "cell_type": "code",
   "execution_count": 8,
   "metadata": {},
   "outputs": [
    {
     "name": "stdout",
     "output_type": "stream",
     "text": [
      "indexes =  [0, 1, 2, 3]\n",
      "d=  4\n",
      "middle_index =  1\n",
      "nums_index =  1\n",
      "middle =  3\n",
      "left =  1\n",
      "right =  5\n"
     ]
    },
    {
     "data": {
      "text/plain": [
       "1"
      ]
     },
     "execution_count": 8,
     "metadata": {},
     "output_type": "execute_result"
    }
   ],
   "source": [
    "searchInsert([1,3,5,6], 2)"
   ]
  },
  {
   "cell_type": "code",
   "execution_count": null,
   "metadata": {},
   "outputs": [],
   "source": [
    "searchInsert([1,3,5,6], 7)"
   ]
  },
  {
   "cell_type": "code",
   "execution_count": 7,
   "metadata": {},
   "outputs": [],
   "source": [
    "def plusOne(digits):\n",
    "        \"\"\"\n",
    "        :type digits: List[int]\n",
    "        :rtype: List[int]\n",
    "        \"\"\"\n",
    "\n",
    "        length = len(digits)\n",
    "\n",
    "        num = 0\n",
    "\n",
    "        for i in range(length):\n",
    "            num = num + (digits[i] * (10**(length-i-1)))\n",
    "            \n",
    "        result = num + 1\n",
    "        \n",
    "\n",
    "        str_digits = str(result)\n",
    "        result_arr = []\n",
    "\n",
    "        for char in str_digits:\n",
    "            result_arr.append(int(char))\n",
    "\n",
    "        return result_arr\n",
    "\n",
    "        "
   ]
  },
  {
   "cell_type": "code",
   "execution_count": null,
   "metadata": {},
   "outputs": [],
   "source": [
    "plusOne([1,2,3])"
   ]
  },
  {
   "cell_type": "code",
   "execution_count": null,
   "metadata": {},
   "outputs": [],
   "source": [
    "def mySqrt(self, x):\n",
    "        \"\"\"\n",
    "        :type x: int\n",
    "        :rtype: int\n",
    "        \"\"\"\n",
    "\n",
    "        a = 0\n",
    "        l =x\n",
    "        if x == 0:\n",
    "            return 0\n",
    "        elif x == 1:\n",
    "            return 1\n",
    "\n",
    "        while True:\n",
    "\n",
    "            sqrt = (l+a) // 2\n",
    "            y = sqrt + 1\n",
    "\n",
    "            temp = sqrt * sqrt\n",
    "            temp2 = y * y\n",
    "\n",
    "            if (temp == x) or (temp < x and temp2 > x):\n",
    "                return sqrt\n",
    "            else:\n",
    "                if temp < x:\n",
    "                    a = sqrt\n",
    "                elif temp > x:\n",
    "                    l = sqrt"
   ]
  },
  {
   "cell_type": "code",
   "execution_count": 1,
   "metadata": {},
   "outputs": [],
   "source": [
    "def mySqrtv2( x ):\n",
    "    \"\"\"\n",
    "    :type x: int\n",
    "    :rtype: int\n",
    "        \"\"\"\n",
    "    if x == 0:\n",
    "        return 0\n",
    "    elif x == 1:\n",
    "        return 1\n",
    "    \n",
    "    prime = [2,3,5,7,11,13,17,19, 23, 31, 37]\n",
    "\n",
    "    square = [x*x for x in prime]\n",
    "\n",
    "    sqrt = 1\n",
    "    length = len(prime)\n",
    "\n",
    "    x_copy = x\n",
    "    i = 0\n",
    "    while i < length:\n",
    "        if x_copy % square[i] == 0:\n",
    "            sqrt = sqrt * prime[i]\n",
    "            x_copy = x_copy/square[i]\n",
    "        else:\n",
    "            i+=1\n",
    "\n",
    "    return sqrt\n",
    "        \n"
   ]
  },
  {
   "cell_type": "code",
   "execution_count": 2,
   "metadata": {},
   "outputs": [
    {
     "data": {
      "text/plain": [
       "26"
      ]
     },
     "execution_count": 2,
     "metadata": {},
     "output_type": "execute_result"
    }
   ],
   "source": [
    "mySqrtv2( 676 )"
   ]
  },
  {
   "cell_type": "code",
   "execution_count": 33,
   "metadata": {},
   "outputs": [],
   "source": [
    "def strStrv2(haystack: str, needle: str) -> int:\n",
    "    \"\"\"\n",
    "    :type haystack: str\n",
    "    :type needle: str\n",
    "    :rtype: int\n",
    "    \"\"\"\n",
    "    a = len(haystack)\n",
    "    b = len(needle)\n",
    "\n",
    "    firstLetter = []\n",
    "    needle0 = needle[0]\n",
    "\n",
    "    for i in range(a):\n",
    "        if haystack[i] == needle0:\n",
    "            firstLetter.append(i)  \n",
    "    # i = 0\n",
    "    j = 0\n",
    "    if len(firstLetter) > 0:\n",
    "        for i in firstLetter:\n",
    "            for d in range(i,a):\n",
    "                if (haystack[d] == needle[j]):\n",
    "                    j += 1\n",
    "                else:\n",
    "                    j = 0\n",
    "                    break\n",
    " \n",
    "                if j == b: # check before adding 1\n",
    "                    return d-j+1\n",
    "                \n",
    "    return -1"
   ]
  },
  {
   "cell_type": "code",
   "execution_count": 34,
   "metadata": {},
   "outputs": [
    {
     "data": {
      "text/plain": [
       "4"
      ]
     },
     "execution_count": 34,
     "metadata": {},
     "output_type": "execute_result"
    }
   ],
   "source": [
    "strStrv2(\"mississippi\", \"issip\")"
   ]
  },
  {
   "cell_type": "code",
   "execution_count": null,
   "metadata": {},
   "outputs": [],
   "source": []
  }
 ],
 "metadata": {
  "kernelspec": {
   "display_name": "aivenv",
   "language": "python",
   "name": "python3"
  },
  "language_info": {
   "codemirror_mode": {
    "name": "ipython",
    "version": 3
   },
   "file_extension": ".py",
   "mimetype": "text/x-python",
   "name": "python",
   "nbconvert_exporter": "python",
   "pygments_lexer": "ipython3",
   "version": "3.9.7"
  }
 },
 "nbformat": 4,
 "nbformat_minor": 2
}
